{
 "cells": [
  {
   "cell_type": "markdown",
   "id": "44d0fa07",
   "metadata": {},
   "source": [
    "# Week 11 - Neural Networks\n",
    "In this assignment, I will:\n",
    "\n",
    "* Load the MNIST data set.\n",
    "* Display the first five images in the training data set. Compare these to the first five training labels.\n",
    "* Build and train a Keras CNN classifier on the MNIST training set.\n",
    "* Report the test accuracy of your model.\n",
    "* Display a confusion matrix on the test set classifications.\n",
    "* Summarize your results."
   ]
  },
  {
   "cell_type": "code",
   "execution_count": 1,
   "id": "5fd8f74c",
   "metadata": {},
   "outputs": [
    {
     "name": "stderr",
     "output_type": "stream",
     "text": [
      "2023-11-08 14:29:24.111420: I tensorflow/core/platform/cpu_feature_guard.cc:182] This TensorFlow binary is optimized to use available CPU instructions in performance-critical operations.\n",
      "To enable the following instructions: AVX2 FMA, in other operations, rebuild TensorFlow with the appropriate compiler flags.\n"
     ]
    }
   ],
   "source": [
    "# importing necessary packages\n",
    "from keras.datasets import mnist\n",
    "from keras import models\n",
    "import cv2\n",
    "import matplotlib.pyplot as plt\n",
    "import keras\n",
    "from keras.models import Sequential\n",
    "from keras.layers import Conv2D, MaxPooling2D, Flatten, Dense, Dropout\n",
    "from sklearn.metrics import confusion_matrix\n",
    "\n",
    "# loading the MNIST data\n",
    "(x_train, y_train), (x_test, y_test) = mnist.load_data()"
   ]
  },
  {
   "cell_type": "markdown",
   "id": "bde3f807",
   "metadata": {},
   "source": [
    "#### Print the first 5 images"
   ]
  },
  {
   "cell_type": "code",
   "execution_count": 3,
   "id": "bb84d178",
   "metadata": {},
   "outputs": [
    {
     "data": {
      "image/png": "[encoded data removed]",
      "text/plain": [
       "<Figure size 640x480 with 1 Axes>"
      ]
     },
     "metadata": {},
     "output_type": "display_data"
    },
    {
     "data": {
      "image/png": "[encoded data removed]",
      "text/plain": [
       "<Figure size 640x480 with 1 Axes>"
      ]
     },
     "metadata": {},
     "output_type": "display_data"
    },
    {
     "data": {
      "image/png": "[encoded data removed]",
      "text/plain": [
       "<Figure size 640x480 with 1 Axes>"
      ]
     },
     "metadata": {},
     "output_type": "display_data"
    },
    {
     "data": {
      "image/png": "[encoded data removed]",
      "text/plain": [
       "<Figure size 640x480 with 1 Axes>"
      ]
     },
     "metadata": {},
     "output_type": "display_data"
    },
    {
     "data": {
      "image/png": "[encoded data removed]",
      "text/plain": [
       "<Figure size 640x480 with 1 Axes>"
      ]
     },
     "metadata": {},
     "output_type": "display_data"
    }
   ],
   "source": [
    "for i in range(5):  \n",
    "    plt.subplot(330 + 1 + i)\n",
    "    plt.imshow(x_train[i])\n",
    "    plt.show()"
   ]
  },
  {
   "cell_type": "code",
   "execution_count": 4,
   "id": "71046df0",
   "metadata": {},
   "outputs": [
    {
     "data": {
      "text/plain": [
       "array([5, 0, 4, 1, 9], dtype=uint8)"
      ]
     },
     "execution_count": 4,
     "metadata": {},
     "output_type": "execute_result"
    }
   ],
   "source": [
    "y_train[:5]"
   ]
  },
  {
   "cell_type": "markdown",
   "id": "2b3dd557",
   "metadata": {},
   "source": [
    "The train_x contains the pictures and train_y has the correct corresponding labels to the integers pictured in the training data."
   ]
  },
  {
   "cell_type": "code",
   "execution_count": 5,
   "id": "668fb7a0",
   "metadata": {},
   "outputs": [],
   "source": [
    "# one-hot encode the y variables\n",
    "y_train = keras.utils.to_categorical(y_train, 10)\n",
    "y_test = keras.utils.to_categorical(y_test, 10)\n",
    "\n",
    "# normalize the data\n",
    "x_train = x_train / 255\n",
    "x_test = x_test / 255\n",
    "\n",
    "# reshape the data\n",
    "x_train = x_train.reshape(x_train.shape[0], -1)\n",
    "x_test = x_test.reshape(x_test.shape[0], -1)"
   ]
  },
  {
   "cell_type": "markdown",
   "id": "7fbb44d7",
   "metadata": {},
   "source": [
    "#### Build and train a Keras CNN classifier on the MNIST training set."
   ]
  },
  {
   "cell_type": "code",
   "execution_count": 6,
   "id": "6cb90ddb",
   "metadata": {},
   "outputs": [],
   "source": [
    "# create the model\n",
    "model = Sequential()\n",
    "\n",
    "# layers\n",
    "model.add(Dense(128, input_shape=(784,), activation='relu'))\n",
    "model.add(Dense(128, activation='relu'))\n",
    "model.add(Dropout(0.25))\n",
    "model.add(Dense(10, activation='softmax'))\n",
    "\n",
    "# compile the model\n",
    "model.compile(loss='categorical_crossentropy', optimizer='adam', metrics=['accuracy'])"
   ]
  },
  {
   "cell_type": "markdown",
   "id": "37284cf6",
   "metadata": {},
   "source": [
    "#### Report the test accuracy of the model."
   ]
  },
  {
   "cell_type": "code",
   "execution_count": 7,
   "id": "a8f40bd9",
   "metadata": {},
   "outputs": [
    {
     "name": "stdout",
     "output_type": "stream",
     "text": [
      "Epoch 1/10\n",
      "59/59 [==============================] - 2s 15ms/step - loss: 0.8422 - accuracy: 0.7613\n",
      "Epoch 2/10\n",
      "59/59 [==============================] - 1s 16ms/step - loss: 0.2901 - accuracy: 0.9156\n",
      "Epoch 3/10\n",
      "59/59 [==============================] - 1s 15ms/step - loss: 0.2180 - accuracy: 0.9367\n",
      "Epoch 4/10\n",
      "59/59 [==============================] - 1s 15ms/step - loss: 0.1747 - accuracy: 0.9497\n",
      "Epoch 5/10\n",
      "59/59 [==============================] - 1s 15ms/step - loss: 0.1484 - accuracy: 0.9575\n",
      "Epoch 6/10\n",
      "59/59 [==============================] - 1s 15ms/step - loss: 0.1262 - accuracy: 0.9631\n",
      "Epoch 7/10\n",
      "59/59 [==============================] - 1s 15ms/step - loss: 0.1099 - accuracy: 0.9674\n",
      "Epoch 8/10\n",
      "59/59 [==============================] - 1s 15ms/step - loss: 0.0974 - accuracy: 0.9715\n",
      "Epoch 9/10\n",
      "59/59 [==============================] - 1s 17ms/step - loss: 0.0870 - accuracy: 0.9745\n",
      "Epoch 10/10\n",
      "59/59 [==============================] - 1s 17ms/step - loss: 0.0786 - accuracy: 0.9767\n",
      "313/313 [==============================] - 1s 3ms/step - loss: 0.0834 - accuracy: 0.9742\n"
     ]
    },
    {
     "data": {
      "text/plain": [
       "[0.08335509896278381, 0.9742000102996826]"
      ]
     },
     "execution_count": 7,
     "metadata": {},
     "output_type": "execute_result"
    }
   ],
   "source": [
    "# train the model\n",
    "model.fit(x_train, y_train, epochs=10, batch_size=1024)\n",
    "\n",
    "model.evaluate(x_test, y_test)"
   ]
  },
  {
   "cell_type": "markdown",
   "id": "f8bd502c",
   "metadata": {},
   "source": [
    "#### Display a confusion matrix on the test set classifications."
   ]
  },
  {
   "cell_type": "code",
   "execution_count": 8,
   "id": "a00285a7",
   "metadata": {},
   "outputs": [
    {
     "name": "stdout",
     "output_type": "stream",
     "text": [
      "313/313 [==============================] - 1s 2ms/step\n",
      "[[ 968    0    2    0    1    1    4    1    2    1]\n",
      " [   0 1124    2    2    0    1    1    1    4    0]\n",
      " [   5    2 1004    1    4    0    5    4    7    0]\n",
      " [   0    0    5  988    0    3    0    6    7    1]\n",
      " [   2    0    4    0  951    0    5    2    3   15]\n",
      " [   2    0    0   12    2  854    9    0   10    3]\n",
      " [   5    3    0    1    3    4  937    0    5    0]\n",
      " [   1    8   10    0    1    0    0 1000    1    7]\n",
      " [   7    0    3    6    4    2    2    3  946    1]\n",
      " [   3    4    0    8   11    1    1    5    6  970]]\n"
     ]
    }
   ],
   "source": [
    "y_pred = model.predict(x_test)\n",
    "\n",
    "import numpy as np\n",
    "# convert one-hot encoded labels back to integer labels\n",
    "y_test = np.argmax(y_test, axis=1)\n",
    "y_pred = np.argmax(y_pred, axis=1)\n",
    "\n",
    "# compute the confusion matrix\n",
    "matrix = confusion_matrix(y_test, y_pred)\n",
    "\n",
    "print(matrix)"
   ]
  },
  {
   "cell_type": "markdown",
   "id": "b1b4a713",
   "metadata": {},
   "source": [
    "### Summarize the Results\n",
    "After loading in the MNIST dataset, I normalized the x_train and x_test data and one-hot encoded the y_train and y_test variables. This ensures less errors when compiling the model. I then began layering the neural network model, choosing to do 4 layers, and ran with 10 epochs and 512 batch size. This turned out to be a 97% accurate model. "
   ]
  },
  {
   "cell_type": "code",
   "execution_count": null,
   "id": "cc5ba882",
   "metadata": {},
   "outputs": [],
   "source": []
  }
 ],
 "metadata": {
  "kernelspec": {
   "display_name": "Python 3 (ipykernel)",
   "language": "python",
   "name": "python3"
  },
  "language_info": {
   "codemirror_mode": {
    "name": "ipython",
    "version": 3
   },
   "file_extension": ".py",
   "mimetype": "text/x-python",
   "name": "python",
   "nbconvert_exporter": "python",
   "pygments_lexer": "ipython3",
   "version": "3.10.9"
  }
 },
 "nbformat": 4,
 "nbformat_minor": 5
}
